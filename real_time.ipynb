{
 "cells": [
  {
   "cell_type": "code",
   "execution_count": 46,
   "metadata": {},
   "outputs": [],
   "source": [
    "import pandas as pd\n",
    "import yfinance as yf\n",
    "import json\n",
    "from kafka import KafkaProducer\n",
    "from kafka.admin import KafkaAdminClient, NewTopic\n",
    "\n",
    "producer = KafkaProducer(\n",
    "    bootstrap_servers=\"192.168.80.34:9092\",\n",
    ")\n",
    "admin_client = KafkaAdminClient(bootstrap_servers=\"192.168.80.34:9092\")\n",
    "topic_name = \"financials\"\n",
    "\n",
    "# Check if topic exists\n",
    "topic_metadata = admin_client.list_topics()\n",
    "if topic_name not in topic_metadata:\n",
    "    # Create topic\n",
    "    topic = NewTopic(name=topic_name, num_partitions=4, replication_factor=2)\n",
    "    admin_client.create_topics(new_topics=[topic])\n",
    "\n",
    "\n",
    "companies: pd.DataFrame = pd.read_csv(\"list_companies.csv\")\n",
    "\n",
    "for i in range(1, len(companies)):\n",
    "    df = (\n",
    "        yf.Ticker(companies[\"ticker\"][i])\n",
    "        .history(\n",
    "            period=\"5d\",\n",
    "        )\n",
    "        .iloc[-3:]\n",
    "    )\n",
    "    df[\"Ticker\"] = companies[\"ticker\"][i]\n",
    "    df[\"CIK\"] = companies[\"CIK\"][i]\n",
    "    df.reset_index(inplace=True)\n",
    "    df[\"Date\"] = df[\"Date\"].dt.strftime(\"%Y-%m-%d\")\n",
    "\n",
    "    for i in range(3):\n",
    "        producer.send(\"financials\", df.iloc[i].to_json().encode(\"utf-8\"))\n"
   ]
  }
 ],
 "metadata": {
  "kernelspec": {
   "display_name": "Python 3",
   "language": "python",
   "name": "python3"
  },
  "language_info": {
   "codemirror_mode": {
    "name": "ipython",
    "version": 3
   },
   "file_extension": ".py",
   "mimetype": "text/x-python",
   "name": "python",
   "nbconvert_exporter": "python",
   "pygments_lexer": "ipython3",
   "version": "3.11.6"
  }
 },
 "nbformat": 4,
 "nbformat_minor": 2
}
